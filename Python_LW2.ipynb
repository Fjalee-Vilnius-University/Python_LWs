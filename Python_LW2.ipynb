{
  "cells": [],
  "metadata": {
    "colab": {
      "collapsed_sections": [],
      "name": "Python-LW1.ipynb",
      "provenance": []
    },
    "interpreter": {
      "hash": "960a412ff91e90c788b85e3d4932b6c738aea9e3c92ea3a84f43cfdf9f6fda9a"
    },
    "kernelspec": {
      "display_name": "Python 3.10.2 64-bit",
      "language": "python",
      "name": "python3"
    },
    "language_info": {
      "codemirror_mode": {
        "name": "ipython",
        "version": 3
      },
      "file_extension": ".py",
      "mimetype": "text/x-python",
      "name": "python",
      "nbconvert_exporter": "python",
      "pygments_lexer": "ipython3",
      "version": "3.10.4"
    }
  },
  "nbformat": 4,
  "nbformat_minor": 0
}
