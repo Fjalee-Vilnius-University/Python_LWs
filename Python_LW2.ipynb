{
  "cells": [
    {
      "cell_type": "code",
      "execution_count": 4,
      "metadata": {},
      "outputs": [],
      "source": [
        "# db connection string run in cmd\n",
        "# "
      ]
    },
    {
      "cell_type": "code",
      "execution_count": 5,
      "metadata": {},
      "outputs": [],
      "source": [
        "import pymongo\n",
        "from pymongo import MongoClient"
      ]
    },
    {
      "cell_type": "code",
      "execution_count": 8,
      "metadata": {},
      "outputs": [
        {
          "ename": "ConfigurationError",
          "evalue": "The \"dnspython\" module must be installed to use mongodb+srv:// URIs. To fix this error install pymongo with the srv extra:\n c:\\Users\\cepRy\\AppData\\Local\\Programs\\Python\\Python310\\python.exe -m pip install \"pymongo[srv]\"",
          "output_type": "error",
          "traceback": [
            "\u001b[1;31m---------------------------------------------------------------------------\u001b[0m",
            "\u001b[1;31mConfigurationError\u001b[0m                        Traceback (most recent call last)",
            "\u001b[1;32mc:\\Users\\cepRy\\Desktop\\Python_LWs\\Python_LW2.ipynb Cell 3'\u001b[0m in \u001b[0;36m<cell line: 1>\u001b[1;34m()\u001b[0m\n\u001b[1;32m----> <a href='vscode-notebook-cell:/c%3A/Users/cepRy/Desktop/Python_LWs/Python_LW2.ipynb#ch0000015?line=0'>1</a>\u001b[0m cluster \u001b[39m=\u001b[39m MongoClient(\u001b[39m'\u001b[39;49m\u001b[39mmongodb+srv://sa:sa@cluster0.n9p5p.mongodb.net/myFirstDatabase?retryWrites=true&w=majority\u001b[39;49m\u001b[39m'\u001b[39;49m)\n\u001b[0;32m      <a href='vscode-notebook-cell:/c%3A/Users/cepRy/Desktop/Python_LWs/Python_LW2.ipynb#ch0000015?line=1'>2</a>\u001b[0m db \u001b[39m=\u001b[39m cluster[\u001b[39m\"\u001b[39m\u001b[39mlw2\u001b[39m\u001b[39m\"\u001b[39m]\n\u001b[0;32m      <a href='vscode-notebook-cell:/c%3A/Users/cepRy/Desktop/Python_LWs/Python_LW2.ipynb#ch0000015?line=2'>3</a>\u001b[0m collection \u001b[39m=\u001b[39m db[\u001b[39m\"\u001b[39m\u001b[39mlw2\u001b[39m\u001b[39m\"\u001b[39m]\n",
            "File \u001b[1;32mc:\\Users\\cepRy\\AppData\\Local\\Programs\\Python\\Python310\\lib\\site-packages\\pymongo\\mongo_client.py:704\u001b[0m, in \u001b[0;36mMongoClient.__init__\u001b[1;34m(self, host, port, document_class, tz_aware, connect, type_registry, **kwargs)\u001b[0m\n\u001b[0;32m    <a href='file:///c%3A/Users/cepRy/AppData/Local/Programs/Python/Python310/lib/site-packages/pymongo/mongo_client.py?line=699'>700</a>\u001b[0m \u001b[39mif\u001b[39;00m timeout \u001b[39mis\u001b[39;00m \u001b[39mnot\u001b[39;00m \u001b[39mNone\u001b[39;00m:\n\u001b[0;32m    <a href='file:///c%3A/Users/cepRy/AppData/Local/Programs/Python/Python310/lib/site-packages/pymongo/mongo_client.py?line=700'>701</a>\u001b[0m     timeout \u001b[39m=\u001b[39m common\u001b[39m.\u001b[39mvalidate_timeout_or_none_or_zero(\n\u001b[0;32m    <a href='file:///c%3A/Users/cepRy/AppData/Local/Programs/Python/Python310/lib/site-packages/pymongo/mongo_client.py?line=701'>702</a>\u001b[0m         keyword_opts\u001b[39m.\u001b[39mcased_key(\u001b[39m\"\u001b[39m\u001b[39mconnecttimeoutms\u001b[39m\u001b[39m\"\u001b[39m), timeout\n\u001b[0;32m    <a href='file:///c%3A/Users/cepRy/AppData/Local/Programs/Python/Python310/lib/site-packages/pymongo/mongo_client.py?line=702'>703</a>\u001b[0m     )\n\u001b[1;32m--> <a href='file:///c%3A/Users/cepRy/AppData/Local/Programs/Python/Python310/lib/site-packages/pymongo/mongo_client.py?line=703'>704</a>\u001b[0m res \u001b[39m=\u001b[39m uri_parser\u001b[39m.\u001b[39;49mparse_uri(\n\u001b[0;32m    <a href='file:///c%3A/Users/cepRy/AppData/Local/Programs/Python/Python310/lib/site-packages/pymongo/mongo_client.py?line=704'>705</a>\u001b[0m     entity,\n\u001b[0;32m    <a href='file:///c%3A/Users/cepRy/AppData/Local/Programs/Python/Python310/lib/site-packages/pymongo/mongo_client.py?line=705'>706</a>\u001b[0m     port,\n\u001b[0;32m    <a href='file:///c%3A/Users/cepRy/AppData/Local/Programs/Python/Python310/lib/site-packages/pymongo/mongo_client.py?line=706'>707</a>\u001b[0m     validate\u001b[39m=\u001b[39;49m\u001b[39mTrue\u001b[39;49;00m,\n\u001b[0;32m    <a href='file:///c%3A/Users/cepRy/AppData/Local/Programs/Python/Python310/lib/site-packages/pymongo/mongo_client.py?line=707'>708</a>\u001b[0m     warn\u001b[39m=\u001b[39;49m\u001b[39mTrue\u001b[39;49;00m,\n\u001b[0;32m    <a href='file:///c%3A/Users/cepRy/AppData/Local/Programs/Python/Python310/lib/site-packages/pymongo/mongo_client.py?line=708'>709</a>\u001b[0m     normalize\u001b[39m=\u001b[39;49m\u001b[39mFalse\u001b[39;49;00m,\n\u001b[0;32m    <a href='file:///c%3A/Users/cepRy/AppData/Local/Programs/Python/Python310/lib/site-packages/pymongo/mongo_client.py?line=709'>710</a>\u001b[0m     connect_timeout\u001b[39m=\u001b[39;49mtimeout,\n\u001b[0;32m    <a href='file:///c%3A/Users/cepRy/AppData/Local/Programs/Python/Python310/lib/site-packages/pymongo/mongo_client.py?line=710'>711</a>\u001b[0m     srv_service_name\u001b[39m=\u001b[39;49msrv_service_name,\n\u001b[0;32m    <a href='file:///c%3A/Users/cepRy/AppData/Local/Programs/Python/Python310/lib/site-packages/pymongo/mongo_client.py?line=711'>712</a>\u001b[0m     srv_max_hosts\u001b[39m=\u001b[39;49msrv_max_hosts,\n\u001b[0;32m    <a href='file:///c%3A/Users/cepRy/AppData/Local/Programs/Python/Python310/lib/site-packages/pymongo/mongo_client.py?line=712'>713</a>\u001b[0m )\n\u001b[0;32m    <a href='file:///c%3A/Users/cepRy/AppData/Local/Programs/Python/Python310/lib/site-packages/pymongo/mongo_client.py?line=713'>714</a>\u001b[0m seeds\u001b[39m.\u001b[39mupdate(res[\u001b[39m\"\u001b[39m\u001b[39mnodelist\u001b[39m\u001b[39m\"\u001b[39m])\n\u001b[0;32m    <a href='file:///c%3A/Users/cepRy/AppData/Local/Programs/Python/Python310/lib/site-packages/pymongo/mongo_client.py?line=714'>715</a>\u001b[0m username \u001b[39m=\u001b[39m res[\u001b[39m\"\u001b[39m\u001b[39musername\u001b[39m\u001b[39m\"\u001b[39m] \u001b[39mor\u001b[39;00m username\n",
            "File \u001b[1;32mc:\\Users\\cepRy\\AppData\\Local\\Programs\\Python\\Python310\\lib\\site-packages\\pymongo\\uri_parser.py:469\u001b[0m, in \u001b[0;36mparse_uri\u001b[1;34m(uri, default_port, validate, warn, normalize, connect_timeout, srv_service_name, srv_max_hosts)\u001b[0m\n\u001b[0;32m    <a href='file:///c%3A/Users/cepRy/AppData/Local/Programs/Python/Python310/lib/site-packages/pymongo/uri_parser.py?line=466'>467</a>\u001b[0m \u001b[39mif\u001b[39;00m \u001b[39mnot\u001b[39;00m _HAVE_DNSPYTHON:\n\u001b[0;32m    <a href='file:///c%3A/Users/cepRy/AppData/Local/Programs/Python/Python310/lib/site-packages/pymongo/uri_parser.py?line=467'>468</a>\u001b[0m     python_path \u001b[39m=\u001b[39m sys\u001b[39m.\u001b[39mexecutable \u001b[39mor\u001b[39;00m \u001b[39m\"\u001b[39m\u001b[39mpython\u001b[39m\u001b[39m\"\u001b[39m\n\u001b[1;32m--> <a href='file:///c%3A/Users/cepRy/AppData/Local/Programs/Python/Python310/lib/site-packages/pymongo/uri_parser.py?line=468'>469</a>\u001b[0m     \u001b[39mraise\u001b[39;00m ConfigurationError(\n\u001b[0;32m    <a href='file:///c%3A/Users/cepRy/AppData/Local/Programs/Python/Python310/lib/site-packages/pymongo/uri_parser.py?line=469'>470</a>\u001b[0m         \u001b[39m'\u001b[39m\u001b[39mThe \u001b[39m\u001b[39m\"\u001b[39m\u001b[39mdnspython\u001b[39m\u001b[39m\"\u001b[39m\u001b[39m module must be \u001b[39m\u001b[39m'\u001b[39m\n\u001b[0;32m    <a href='file:///c%3A/Users/cepRy/AppData/Local/Programs/Python/Python310/lib/site-packages/pymongo/uri_parser.py?line=470'>471</a>\u001b[0m         \u001b[39m\"\u001b[39m\u001b[39minstalled to use mongodb+srv:// URIs. \u001b[39m\u001b[39m\"\u001b[39m\n\u001b[0;32m    <a href='file:///c%3A/Users/cepRy/AppData/Local/Programs/Python/Python310/lib/site-packages/pymongo/uri_parser.py?line=471'>472</a>\u001b[0m         \u001b[39m\"\u001b[39m\u001b[39mTo fix this error install pymongo with the srv extra:\u001b[39m\u001b[39m\\n\u001b[39;00m\u001b[39m \u001b[39m\u001b[39m\"\u001b[39m\n\u001b[0;32m    <a href='file:///c%3A/Users/cepRy/AppData/Local/Programs/Python/Python310/lib/site-packages/pymongo/uri_parser.py?line=472'>473</a>\u001b[0m         \u001b[39m'\u001b[39m\u001b[39m%s\u001b[39;00m\u001b[39m -m pip install \u001b[39m\u001b[39m\"\u001b[39m\u001b[39mpymongo[srv]\u001b[39m\u001b[39m\"\u001b[39m\u001b[39m'\u001b[39m \u001b[39m%\u001b[39m (python_path)\n\u001b[0;32m    <a href='file:///c%3A/Users/cepRy/AppData/Local/Programs/Python/Python310/lib/site-packages/pymongo/uri_parser.py?line=473'>474</a>\u001b[0m     )\n\u001b[0;32m    <a href='file:///c%3A/Users/cepRy/AppData/Local/Programs/Python/Python310/lib/site-packages/pymongo/uri_parser.py?line=474'>475</a>\u001b[0m is_srv \u001b[39m=\u001b[39m \u001b[39mTrue\u001b[39;00m\n\u001b[0;32m    <a href='file:///c%3A/Users/cepRy/AppData/Local/Programs/Python/Python310/lib/site-packages/pymongo/uri_parser.py?line=475'>476</a>\u001b[0m scheme_free \u001b[39m=\u001b[39m uri[SRV_SCHEME_LEN:]\n",
            "\u001b[1;31mConfigurationError\u001b[0m: The \"dnspython\" module must be installed to use mongodb+srv:// URIs. To fix this error install pymongo with the srv extra:\n c:\\Users\\cepRy\\AppData\\Local\\Programs\\Python\\Python310\\python.exe -m pip install \"pymongo[srv]\""
          ]
        }
      ],
      "source": [
        "cluster = MongoClient('mongodb+srv://sa:sa@cluster0.n9p5p.mongodb.net/myFirstDatabase?retryWrites=true&w=majority')\n",
        "db = cluster[\"lw2\"]\n",
        "collection = db[\"lw2\"]"
      ]
    },
    {
      "cell_type": "code",
      "execution_count": null,
      "metadata": {},
      "outputs": [],
      "source": []
    }
  ],
  "metadata": {
    "colab": {
      "collapsed_sections": [],
      "name": "Python-LW1.ipynb",
      "provenance": []
    },
    "interpreter": {
      "hash": "960a412ff91e90c788b85e3d4932b6c738aea9e3c92ea3a84f43cfdf9f6fda9a"
    },
    "kernelspec": {
      "display_name": "Python 3.10.2 64-bit",
      "language": "python",
      "name": "python3"
    },
    "language_info": {
      "codemirror_mode": {
        "name": "ipython",
        "version": 3
      },
      "file_extension": ".py",
      "mimetype": "text/x-python",
      "name": "python",
      "nbconvert_exporter": "python",
      "pygments_lexer": "ipython3",
      "version": "3.10.4"
    }
  },
  "nbformat": 4,
  "nbformat_minor": 0
}
