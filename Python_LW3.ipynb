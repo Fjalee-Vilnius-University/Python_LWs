{
  "nbformat": 4,
  "nbformat_minor": 0,
  "metadata": {
    "colab": {
      "name": "Python-LW3.ipynb",
      "provenance": [],
      "collapsed_sections": []
    },
    "kernelspec": {
      "name": "python3",
      "display_name": "Python 3"
    },
    "language_info": {
      "name": "python"
    }
  },
  "cells": [
    {
      "cell_type": "code",
      "source": [
        "import doctest\n",
        "import unittest\n",
        "import string\n",
        "import math as m  "
      ],
      "metadata": {
        "id": "wFRv-G2ztCpk"
      },
      "execution_count": 99,
      "outputs": []
    },
    {
      "cell_type": "code",
      "execution_count": 100,
      "metadata": {
        "id": "yZy4f8Xasump",
        "colab": {
          "base_uri": "https://localhost:8080/"
        },
        "outputId": "146e0957-fc7c-4f5f-c06a-8d3a876ac535"
      },
      "outputs": [
        {
          "output_type": "execute_result",
          "data": {
            "text/plain": [
              "TestResults(failed=0, attempted=4)"
            ]
          },
          "metadata": {},
          "execution_count": 100
        }
      ],
      "source": [
        "\"\"\"\n",
        "ar skaičius yra pirminis\n",
        "\n",
        ">>> is_prime(1)\n",
        "True\n",
        ">>> is_prime(73)\n",
        "True\n",
        ">>> is_prime(4)\n",
        "False\n",
        ">>> is_prime(50)\n",
        "False\n",
        "\"\"\"\n",
        "def is_prime(num):\n",
        "    for n in range(2,int(num**0.5)+1):\n",
        "        if num%n==0:\n",
        "            return False\n",
        "    return True\n",
        "\n",
        "doctest.testmod()"
      ]
    },
    {
      "cell_type": "code",
      "source": [
        "\"\"\"\n",
        "ar simbolių eilutė sudaryta iš mažųjų raidžių\n",
        "\n",
        ">>> is_only_lower(\"aaaaaaaaa\")\n",
        "True\n",
        ">>> is_only_lower(\"aaaaAaaa\")\n",
        "False\n",
        "\n",
        "\"\"\"\n",
        "def is_only_lower(s):\n",
        "    return s.islower()\n",
        "\n",
        "doctest.testmod()"
      ],
      "metadata": {
        "colab": {
          "base_uri": "https://localhost:8080/"
        },
        "id": "pmGOaNLPy3b7",
        "outputId": "34f32246-a8f8-4d8b-a081-47d5ee484e7a"
      },
      "execution_count": 101,
      "outputs": [
        {
          "output_type": "execute_result",
          "data": {
            "text/plain": [
              "TestResults(failed=0, attempted=2)"
            ]
          },
          "metadata": {},
          "execution_count": 101
        }
      ]
    },
    {
      "cell_type": "code",
      "source": [
        "\"\"\"\n",
        "# ar simbolių eilutė sudaryta tik iš raidžių ir skaičių\n",
        "\n",
        ">>> is_only_letter_or_number('a4354b')\n",
        "True\n",
        ">>> is_only_letter_or_number('f5-fg5')\n",
        "False\n",
        "\"\"\"\n",
        "\n",
        "def is_only_letter_or_number(s):\n",
        "  for symbol in s:\n",
        "    if(not symbol.isalpha() and not symbol.isnumeric()):\n",
        "      return False\n",
        "  return True\n",
        "\n",
        "doctest.testmod()"
      ],
      "metadata": {
        "colab": {
          "base_uri": "https://localhost:8080/"
        },
        "id": "MtRvTknq7VoI",
        "outputId": "d2e2cf79-92bb-4f18-abcb-6e8e136b337e"
      },
      "execution_count": 102,
      "outputs": [
        {
          "output_type": "execute_result",
          "data": {
            "text/plain": [
              "TestResults(failed=0, attempted=2)"
            ]
          },
          "metadata": {},
          "execution_count": 102
        }
      ]
    },
    {
      "cell_type": "code",
      "source": [
        "\"\"\"\n",
        "# ar simbolių eilutė sudaryta iš nepasikartojančių simbolių\n",
        "\n",
        ">>> is_no_repeating_symbols('abcdefgahtyui')\n",
        "False\n",
        ">>> is_no_repeating_symbols('abcde')\n",
        "True\n",
        "\n",
        "\"\"\"\n",
        "\n",
        "def is_no_repeating_symbols(s):\n",
        "  used = []\n",
        "  for symbol in s:\n",
        "    if(symbol in used):\n",
        "      return False\n",
        "    used.append(symbol)\n",
        "  return True\n",
        "\n",
        "doctest.testmod()"
      ],
      "metadata": {
        "colab": {
          "base_uri": "https://localhost:8080/"
        },
        "id": "x1ujBpve-YrX",
        "outputId": "c6129384-e2ea-489c-d065-008903873a35"
      },
      "execution_count": 103,
      "outputs": [
        {
          "output_type": "execute_result",
          "data": {
            "text/plain": [
              "TestResults(failed=0, attempted=2)"
            ]
          },
          "metadata": {},
          "execution_count": 103
        }
      ]
    },
    {
      "cell_type": "code",
      "source": [
        "\"\"\"\n",
        "# parašyti funkciją apskaičiuojančią n-ąjį Fibonačio skaičių\n",
        "\n",
        ">>> get_fibonacci_nth_nm(8)\n",
        "13\n",
        ">>> get_fibonacci_nth_nm(-1)\n",
        "-1\n",
        "\"\"\"\n",
        "\n",
        "def get_fibonacci_nth_nm(n):\n",
        "    if n <= 0:\n",
        "        return -1\n",
        "    # First Fibonacci number is 0\n",
        "    elif n == 1:\n",
        "        return 0\n",
        "    # Second Fibonacci number is 1\n",
        "    elif n == 2:\n",
        "        return 1\n",
        "    else:\n",
        "        return get_fibonacci_nth_nm(n-1)+get_fibonacci_nth_nm(n-2)\n",
        "\n",
        "doctest.testmod()"
      ],
      "metadata": {
        "colab": {
          "base_uri": "https://localhost:8080/"
        },
        "id": "hRZiulSe1Adf",
        "outputId": "513d6aa3-9b77-444d-fa33-7e417aa540d8"
      },
      "execution_count": 104,
      "outputs": [
        {
          "output_type": "execute_result",
          "data": {
            "text/plain": [
              "TestResults(failed=0, attempted=2)"
            ]
          },
          "metadata": {},
          "execution_count": 104
        }
      ]
    },
    {
      "cell_type": "code",
      "source": [
        "class TestLw(unittest.TestCase):\n",
        "    def test_is_prime(self):\n",
        "        self.assertTrue(is_prime(7))\n",
        "        self.assertFalse(is_prime(4))\n",
        "    def test_is_only_lower(self):\n",
        "        self.assertTrue(is_only_lower('aaaaaaaaaaaaaaaaaaaaaaaaaaaaaaaaaaaaaaaaaaaaaaaaaaaaaaaaaaaaaaaaaaaaaaaaa'))\n",
        "        self.assertFalse(is_only_lower('Aaaaa'))\n",
        "    def test_get_fibonacci_nth_nm(self):\n",
        "        self.assertEqual(get_fibonacci_nth_nm(5), 3)\n",
        "        self.assertEqual(get_fibonacci_nth_nm(-66), -1)\n",
        "    def test_is_only_letter_or_number(self):\n",
        "        self.assertTrue(is_only_letter_or_number('Ad56hdf9asd8a9'))\n",
        "        self.assertFalse(is_only_letter_or_number('sadrewr sadsfsaf'))\n",
        "    def test_is_no_repeating_symbols(self):\n",
        "        self.assertTrue(is_no_repeating_symbols('2346'))\n",
        "        self.assertFalse(is_no_repeating_symbols('1234577765'))\n",
        "\n",
        "if __name__ == \"__main__\":\n",
        "    unittest.main(argv=['first-arg-is-ignored'], exit=False)"
      ],
      "metadata": {
        "id": "XUvSPkf2vTaZ",
        "colab": {
          "base_uri": "https://localhost:8080/"
        },
        "outputId": "bf5ebee1-5a99-4879-9837-a2b67784c91d"
      },
      "execution_count": 105,
      "outputs": [
        {
          "output_type": "stream",
          "name": "stderr",
          "text": [
            ".....\n",
            "----------------------------------------------------------------------\n",
            "Ran 5 tests in 0.010s\n",
            "\n",
            "OK\n"
          ]
        }
      ]
    }
  ]
}