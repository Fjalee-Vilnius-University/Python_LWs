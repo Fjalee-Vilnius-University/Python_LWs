{
  "cells": [
    {
      "cell_type": "code",
      "execution_count": 2,
      "metadata": {},
      "outputs": [],
      "source": [
        "import pymongo\n",
        "from pymongo import MongoClient"
      ]
    },
    {
      "cell_type": "code",
      "execution_count": 3,
      "metadata": {},
      "outputs": [],
      "source": [
        "cluster = MongoClient('mongodb+srv://sa:sa@cluster0.n9p5p.mongodb.net/myFirstDatabase?retryWrites=true&w=majority')\n",
        "db = cluster[\"lw2\"]\n",
        "collection = db[\"lw2\"]"
      ]
    },
    {
      "cell_type": "code",
      "execution_count": null,
      "metadata": {},
      "outputs": [],
      "source": [
        "# Sukurkite restoranų duomenų rinkinį (pridedamas zip failas)\n",
        "# Parašykite užklausą atvaizduojančią visus dokumentus iš restoranų rinkinio\n",
        "# Parašykite užklausą, kuri atvaizduotų laukus - restaurant_id, name, borough ir cuisine - visiems dokumentams\n",
        "# Parašykite užklausą, kuri atvaizduotų laukus - restaurant_id, name, borough ir cuisine -, bet nerodytų lauko field_id visiems dokumentams\n",
        "# Parašykite užklausą, kuri parodytų visus miestelio Bronx restoranus\n",
        "# Parašykite užklausą, kuri parodytų restoranus su įvertinimu tarp 80 ir 100.\n",
        "# Parašykite užklausą, kad cuisine būtų išdėstyta didėjimo tvarka, o borough - mažėjimo."
      ]
    }
  ],
  "metadata": {
    "colab": {
      "collapsed_sections": [],
      "name": "Python-LW1.ipynb",
      "provenance": []
    },
    "interpreter": {
      "hash": "960a412ff91e90c788b85e3d4932b6c738aea9e3c92ea3a84f43cfdf9f6fda9a"
    },
    "kernelspec": {
      "display_name": "Python 3.10.2 64-bit",
      "language": "python",
      "name": "python3"
    },
    "language_info": {
      "codemirror_mode": {
        "name": "ipython",
        "version": 3
      },
      "file_extension": ".py",
      "mimetype": "text/x-python",
      "name": "python",
      "nbconvert_exporter": "python",
      "pygments_lexer": "ipython3",
      "version": "3.10.4"
    }
  },
  "nbformat": 4,
  "nbformat_minor": 0
}
