{
  "nbformat": 4,
  "nbformat_minor": 0,
  "metadata": {
    "colab": {
      "name": "Python-LW1.ipynb",
      "provenance": [],
      "collapsed_sections": []
    },
    "kernelspec": {
      "name": "python3",
      "display_name": "Python 3"
    },
    "language_info": {
      "name": "python"
    }
  },
  "cells": [
    {
      "cell_type": "code",
      "execution_count": 16,
      "metadata": {
        "id": "dk9Na6ZGu43K"
      },
      "outputs": [],
      "source": [
        "import numpy as np\n",
        "from sympy import *"
      ]
    },
    {
      "cell_type": "code",
      "source": [
        "# -Padalinkite intervalą nuo -1.3 iki 2.5 tolygiai į 64 dalis.\n",
        "def first():\n",
        "  return np.linspace(-1.3, 2.5, num=64)\n",
        "\n",
        "first()"
      ],
      "metadata": {
        "colab": {
          "base_uri": "https://localhost:8080/"
        },
        "id": "VT-B520UwTH5",
        "outputId": "fc42b41a-11de-47fa-cee0-7dd450e55749"
      },
      "execution_count": null,
      "outputs": [
        {
          "output_type": "execute_result",
          "data": {
            "text/plain": [
              "array([-1.3       , -1.23968254, -1.17936508, -1.11904762, -1.05873016,\n",
              "       -0.9984127 , -0.93809524, -0.87777778, -0.81746032, -0.75714286,\n",
              "       -0.6968254 , -0.63650794, -0.57619048, -0.51587302, -0.45555556,\n",
              "       -0.3952381 , -0.33492063, -0.27460317, -0.21428571, -0.15396825,\n",
              "       -0.09365079, -0.03333333,  0.02698413,  0.08730159,  0.14761905,\n",
              "        0.20793651,  0.26825397,  0.32857143,  0.38888889,  0.44920635,\n",
              "        0.50952381,  0.56984127,  0.63015873,  0.69047619,  0.75079365,\n",
              "        0.81111111,  0.87142857,  0.93174603,  0.99206349,  1.05238095,\n",
              "        1.11269841,  1.17301587,  1.23333333,  1.29365079,  1.35396825,\n",
              "        1.41428571,  1.47460317,  1.53492063,  1.5952381 ,  1.65555556,\n",
              "        1.71587302,  1.77619048,  1.83650794,  1.8968254 ,  1.95714286,\n",
              "        2.01746032,  2.07777778,  2.13809524,  2.1984127 ,  2.25873016,\n",
              "        2.31904762,  2.37936508,  2.43968254,  2.5       ])"
            ]
          },
          "metadata": {},
          "execution_count": 16
        }
      ]
    },
    {
      "cell_type": "code",
      "source": [
        "# -Sugeneruokite masyvą dydžio 3n ir užpildykite jį cikliniu šablonu [1, 2, 3].\n",
        "def second(n):\n",
        "  return np.tile([1,2,3], n)\n",
        "\n",
        "second(6)"
      ],
      "metadata": {
        "colab": {
          "base_uri": "https://localhost:8080/"
        },
        "id": "p3mxCQVowZ-k",
        "outputId": "2a253b74-195f-4fbe-a10e-7022104c7502"
      },
      "execution_count": null,
      "outputs": [
        {
          "output_type": "execute_result",
          "data": {
            "text/plain": [
              "array([1, 2, 3, 1, 2, 3, 1, 2, 3, 1, 2, 3, 1, 2, 3, 1, 2, 3])"
            ]
          },
          "metadata": {},
          "execution_count": 18
        }
      ]
    },
    {
      "cell_type": "code",
      "source": [
        "# -Sukurkite masyvą iš pirmųjų 10 nelyginių sveikųjų skaičių.\n",
        "def third():\n",
        "  return np.arange(1,20,2)\n",
        "\n",
        "third()"
      ],
      "metadata": {
        "colab": {
          "base_uri": "https://localhost:8080/"
        },
        "id": "7Rdo-CY5yD5K",
        "outputId": "61eaba2e-d26e-4bd6-9667-a9a46ba1b997"
      },
      "execution_count": null,
      "outputs": [
        {
          "output_type": "execute_result",
          "data": {
            "text/plain": [
              "array([ 1,  3,  5,  7,  9, 11, 13, 15, 17, 19])"
            ]
          },
          "metadata": {},
          "execution_count": 19
        }
      ]
    },
    {
      "cell_type": "code",
      "source": [
        "# -Sukurkite masyvą dydžio 10 x 10 iš nulių ir \"įrėminkite\" jį vienetais.\n",
        "def forth():\n",
        "  base = np.zeros(12*12).reshape(12,12)\n",
        "  base[:, 11] = 1\n",
        "  base[11, :] = 1\n",
        "  base[:, 0] = 1\n",
        "  base[0, :] = 1\n",
        "  return base\n",
        "\n",
        "forth()"
      ],
      "metadata": {
        "colab": {
          "base_uri": "https://localhost:8080/"
        },
        "id": "A2tI67Hxz2ig",
        "outputId": "98c8f6d1-95da-42f1-fc34-d10753e1e9e0"
      },
      "execution_count": null,
      "outputs": [
        {
          "output_type": "execute_result",
          "data": {
            "text/plain": [
              "array([[1., 1., 1., 1., 1., 1., 1., 1., 1., 1., 1., 1.],\n",
              "       [1., 0., 0., 0., 0., 0., 0., 0., 0., 0., 0., 1.],\n",
              "       [1., 0., 0., 0., 0., 0., 0., 0., 0., 0., 0., 1.],\n",
              "       [1., 0., 0., 0., 0., 0., 0., 0., 0., 0., 0., 1.],\n",
              "       [1., 0., 0., 0., 0., 0., 0., 0., 0., 0., 0., 1.],\n",
              "       [1., 0., 0., 0., 0., 0., 0., 0., 0., 0., 0., 1.],\n",
              "       [1., 0., 0., 0., 0., 0., 0., 0., 0., 0., 0., 1.],\n",
              "       [1., 0., 0., 0., 0., 0., 0., 0., 0., 0., 0., 1.],\n",
              "       [1., 0., 0., 0., 0., 0., 0., 0., 0., 0., 0., 1.],\n",
              "       [1., 0., 0., 0., 0., 0., 0., 0., 0., 0., 0., 1.],\n",
              "       [1., 0., 0., 0., 0., 0., 0., 0., 0., 0., 0., 1.],\n",
              "       [1., 1., 1., 1., 1., 1., 1., 1., 1., 1., 1., 1.]])"
            ]
          },
          "metadata": {},
          "execution_count": 37
        }
      ]
    },
    {
      "cell_type": "code",
      "source": [
        "# -Sukurkite masyvą dydžio 8 x 8, kur 1 ir 0 išdėlioti šachmatine tvarka (panaudokite slicing+striding metodą).\n",
        "def fifth():\n",
        "  line = np.ones(8)\n",
        "  line[::2] = np.zeros(int(8/2))\n",
        "  rev_line = line[::-1]\n",
        "  two_lines = np.hstack((line, rev_line))\n",
        "  board_arr = np.tile(two_lines, int(8/2))\n",
        "  return board_arr.reshape(8, 8)\n",
        "  \n",
        "fifth()"
      ],
      "metadata": {
        "colab": {
          "base_uri": "https://localhost:8080/"
        },
        "id": "p7IIBMjC6ky5",
        "outputId": "44940338-411f-4870-c8d8-196d2ce89632"
      },
      "execution_count": null,
      "outputs": [
        {
          "output_type": "execute_result",
          "data": {
            "text/plain": [
              "array([[0., 1., 0., 1., 0., 1., 0., 1.],\n",
              "       [1., 0., 1., 0., 1., 0., 1., 0.],\n",
              "       [0., 1., 0., 1., 0., 1., 0., 1.],\n",
              "       [1., 0., 1., 0., 1., 0., 1., 0.],\n",
              "       [0., 1., 0., 1., 0., 1., 0., 1.],\n",
              "       [1., 0., 1., 0., 1., 0., 1., 0.],\n",
              "       [0., 1., 0., 1., 0., 1., 0., 1.],\n",
              "       [1., 0., 1., 0., 1., 0., 1., 0.]])"
            ]
          },
          "metadata": {},
          "execution_count": 80
        }
      ]
    },
    {
      "cell_type": "code",
      "source": [
        "# -Sukurkite masyvą dydžio n×n , kurio (i,j)-oji pozicija lygi i+j\n",
        "def sixth(n, i, j):\n",
        "  base_arr = np.full((n, n), None)\n",
        "  base_arr[i,j] = i*j\n",
        "  return base_arr\n",
        "\n",
        "sixth(10, 4, 5)"
      ],
      "metadata": {
        "colab": {
          "base_uri": "https://localhost:8080/"
        },
        "id": "Tcm2nmVLCMp1",
        "outputId": "5fced6bb-ef43-4264-8505-c00e5eda7dbe"
      },
      "execution_count": null,
      "outputs": [
        {
          "output_type": "execute_result",
          "data": {
            "text/plain": [
              "array([[None, None, None, None, None, None, None, None, None, None],\n",
              "       [None, None, None, None, None, None, None, None, None, None],\n",
              "       [None, None, None, None, None, None, None, None, None, None],\n",
              "       [None, None, None, None, None, None, None, None, None, None],\n",
              "       [None, None, None, None, None, 20, None, None, None, None],\n",
              "       [None, None, None, None, None, None, None, None, None, None],\n",
              "       [None, None, None, None, None, None, None, None, None, None],\n",
              "       [None, None, None, None, None, None, None, None, None, None],\n",
              "       [None, None, None, None, None, None, None, None, None, None],\n",
              "       [None, None, None, None, None, None, None, None, None, None]],\n",
              "      dtype=object)"
            ]
          },
          "metadata": {},
          "execution_count": 85
        }
      ]
    },
    {
      "cell_type": "code",
      "source": [
        "# -Sukurkite atsitiktinį masyvą dydžio 3×5 naudodami np.random.rand(3, 5) funkciją ir suskaičiuokite: sumą, eilučių sumą, stulpelių sumą.\n",
        "def seventh():\n",
        "  base = np.random.rand(3, 5)\n",
        "  print('Sum: ' + str(base.sum()))\n",
        "  print('row sums: ' + str(base.sum(axis=1)))\n",
        "  print('col sums: ' + str(base.sum(axis=0)))\n",
        "seventh()"
      ],
      "metadata": {
        "colab": {
          "base_uri": "https://localhost:8080/"
        },
        "id": "s6TbI8WADNTV",
        "outputId": "f1c3f174-6d9a-4d47-d641-28c8eff8402c"
      },
      "execution_count": null,
      "outputs": [
        {
          "output_type": "stream",
          "name": "stdout",
          "text": [
            "Sum: 7.011501162306144\n",
            "row sums: [2.15638224 2.19467582 2.66044311]\n",
            "col sums: [1.70115095 1.05459805 1.70477555 1.76784618 0.78313043]\n"
          ]
        }
      ]
    },
    {
      "cell_type": "code",
      "source": [
        "# -Sukurkite atsitiktinį masyvą dydžio 5×5 naudodami np.random.rand(5, 5). Surūšiuokite eilutes pagal antrąjį stulpelį. Tam pamėginkite apjungti masyvo slicing + argsort + indexing metodus.\n",
        "def eigth():\n",
        "  base = np.random.rand(5, 5)\n",
        "  return base[base[:, 1].argsort()]\n",
        "eigth()"
      ],
      "metadata": {
        "colab": {
          "base_uri": "https://localhost:8080/"
        },
        "id": "mQFuyLv8DxYy",
        "outputId": "e4b4fb5b-8f81-4147-a1ac-4938f9366bbf"
      },
      "execution_count": null,
      "outputs": [
        {
          "output_type": "execute_result",
          "data": {
            "text/plain": [
              "array([[0.75408145, 0.2184752 , 0.80089401, 0.10068179, 0.16664913],\n",
              "       [0.97269305, 0.32266546, 0.60800897, 0.74580676, 0.97031954],\n",
              "       [0.40272771, 0.47674205, 0.31282171, 0.71804099, 0.9258283 ],\n",
              "       [0.33343055, 0.52171098, 0.52507748, 0.38922213, 0.82919017],\n",
              "       [0.00789307, 0.96881923, 0.85112483, 0.29714637, 0.64828701]])"
            ]
          },
          "metadata": {},
          "execution_count": 123
        }
      ]
    },
    {
      "cell_type": "code",
      "source": [
        "# -Atvirkštinę matricą\n",
        "def ninth(matrix):\n",
        "  return np.linalg.inv(matrix)\n",
        "\n",
        "a = np.array([[1,2],[3,4]])\n",
        "ninth(a)"
      ],
      "metadata": {
        "colab": {
          "base_uri": "https://localhost:8080/"
        },
        "id": "KMn2eEposJ_3",
        "outputId": "c66bd559-9549-4d25-9ee4-5a32047829fe"
      },
      "execution_count": 13,
      "outputs": [
        {
          "output_type": "execute_result",
          "data": {
            "text/plain": [
              "array([[-2. ,  1. ],\n",
              "       [ 1.5, -0.5]])"
            ]
          },
          "metadata": {},
          "execution_count": 13
        }
      ]
    },
    {
      "cell_type": "code",
      "source": [
        "# -Apskaičiuokite matricos tikrines reikšmes ir tikrinį vektorių\n",
        "def tenth(matrix):\n",
        "  return np.linalg.eig(matrix)\n",
        "\n",
        "tenth(a)"
      ],
      "metadata": {
        "colab": {
          "base_uri": "https://localhost:8080/"
        },
        "id": "6JBxAsOruxJC",
        "outputId": "fdc081b8-32e9-4850-8f79-49792873dc8c"
      },
      "execution_count": 15,
      "outputs": [
        {
          "output_type": "stream",
          "name": "stdout",
          "text": [
            "(array([-0.37228132,  5.37228132]), array([[-0.82456484, -0.41597356],\n",
            "       [ 0.56576746, -0.90937671]]))\n"
          ]
        }
      ]
    },
    {
      "cell_type": "code",
      "source": [
        "# -Pasirinktos funkcijos išvestinę\n",
        "def eleventh(math_function):\n",
        "  return diff(math_function)\n",
        "\n",
        "x = symbols('x')\n",
        "y = x**2 + 1\n",
        "eleventh(y)"
      ],
      "metadata": {
        "colab": {
          "base_uri": "https://localhost:8080/",
          "height": 39
        },
        "id": "Y4CqrUWnv0fp",
        "outputId": "151ac46d-fc35-467a-a1cd-1bea841aca6e"
      },
      "execution_count": 17,
      "outputs": [
        {
          "output_type": "execute_result",
          "data": {
            "text/plain": [
              "2*x"
            ],
            "text/latex": "$\\displaystyle 2 x$"
          },
          "metadata": {},
          "execution_count": 17
        }
      ]
    },
    {
      "cell_type": "code",
      "source": [
        "# -Pasirinktos funkcijos apibrėžtinį ir neapibrėžtinį integralus\n",
        "def twelfth(math_function):\n",
        "  return integrate(math_function)\n",
        "\n",
        "twelfth(y)"
      ],
      "metadata": {
        "colab": {
          "base_uri": "https://localhost:8080/",
          "height": 54
        },
        "id": "kRUOorNQxTQw",
        "outputId": "8af2908c-3a6c-4ffe-de93-acc03f01b847"
      },
      "execution_count": 18,
      "outputs": [
        {
          "output_type": "execute_result",
          "data": {
            "text/plain": [
              "x**3/3 + x"
            ],
            "text/latex": "$\\displaystyle \\frac{x^{3}}{3} + x$"
          },
          "metadata": {},
          "execution_count": 18
        }
      ]
    }
  ]
}